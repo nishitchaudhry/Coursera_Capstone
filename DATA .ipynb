{
    "cells": [
        {
            "cell_type": "markdown",
            "metadata": {
                "collapsed": true
            },
            "source": "# THE BATTLE OF NEIGHBORHOODS BETWEEN THE NEW YORK CITY, US AND TORONTO CITY, CA"
        },
        {
            "cell_type": "markdown",
            "metadata": {},
            "source": "##### This is a Capstone Project submitted by Nishit Chaudhry in partial fulfillment of the requirements for the IBM Data Science Professional Certificate"
        },
        {
            "cell_type": "markdown",
            "metadata": {},
            "source": "## INTRODUCTION / BUSINESS PROBLEM"
        },
        {
            "cell_type": "markdown",
            "metadata": {},
            "source": "This project will compare the neighborhoods of the New York City in the USA and the city of Toronto in Canada which are very diverse and are also the financial capitals of their respective countries. It will help us identify similarities or dissimilarities between the cities by comparing their neighborhoods. We will also try to visualize the comparison between each Boroughs of the respective cities.\n\nThis will target the audiences who run a business in one of the cities and is planning to expand their businesses or even invest in the other city. It will enhance their understanding of both the cities and will potentially assist in the decision-making by providing detailed comparison between the neighborhoods.\n\nFor example, if a businessman owns a restaurant in the city of Toronto and is planning to expand and start a new branch in New York city, then this comparison will help him understand the right neighborhoods to invest this idea in and also the opportunites each neighborhood provides.\n\nAlthough, there are a lot of other parameters that one should keep in mind, for example, comparison of business setup cost, demographic comparison between the cities and so on but this report will help the audiences get an overall understanding of the factors that make each of these cities so important to their respective countries as well as the similarities and dissimilarities amongst the two."
        },
        {
            "cell_type": "markdown",
            "metadata": {},
            "source": "# DATA"
        },
        {
            "cell_type": "markdown",
            "metadata": {},
            "source": "The dataset used here will comprise of the Boroughs, Neighborhoods, Latitude and Longitude of the respective cities. The datasets will be downloaded from external source for each city.\nThe longitude and latitude data will be used by the Foursquare API to help in exploring the neighborhood venues as well as to map the clusters on the map using Folium package. The two cities will be compared on the basis of the Boroughs and Neighborhoods. First, the comparison will be amongst the neighborhoods of the each city and then it will be amongst the two cities.\nWe will get the information of the venues from the Foursquare by using the dataset. The Foursquare uses this Latitude and Longitude data to provide a json file with the details of the venues like name, category, latitude and longitude. Also, Fourquare API uses the Client ID, Client secret(which is basically a password) and the Version(which "
        },
        {
            "cell_type": "code",
            "execution_count": null,
            "metadata": {},
            "outputs": [],
            "source": ""
        }
    ],
    "metadata": {
        "kernelspec": {
            "display_name": "Python 3.6",
            "language": "python",
            "name": "python3"
        },
        "language_info": {
            "codemirror_mode": {
                "name": "ipython",
                "version": 3
            },
            "file_extension": ".py",
            "mimetype": "text/x-python",
            "name": "python",
            "nbconvert_exporter": "python",
            "pygments_lexer": "ipython3",
            "version": "3.6.9"
        }
    },
    "nbformat": 4,
    "nbformat_minor": 1
}